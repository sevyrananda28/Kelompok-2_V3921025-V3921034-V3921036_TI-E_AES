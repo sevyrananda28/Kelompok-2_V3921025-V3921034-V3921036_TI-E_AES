{
  "nbformat": 4,
  "nbformat_minor": 0,
  "metadata": {
    "colab": {
      "provenance": [],
      "mount_file_id": "1aC3DsAfD6xdSNfy2vArW7M_gN-EMF6oc",
      "authorship_tag": "ABX9TyNLCkFDi7D23UmGV4N6Scim",
      "include_colab_link": true
    },
    "kernelspec": {
      "name": "python3",
      "display_name": "Python 3"
    },
    "language_info": {
      "name": "python"
    }
  },
  "cells": [
    {
      "cell_type": "markdown",
      "metadata": {
        "id": "view-in-github",
        "colab_type": "text"
      },
      "source": [
        "<a href=\"https://colab.research.google.com/github/sevyrananda28/Kelompok-2_V3921025-V3921034-V3921036_TI-E_AES/blob/main/Word_Frequency.ipynb\" target=\"_parent\"><img src=\"https://colab.research.google.com/assets/colab-badge.svg\" alt=\"Open In Colab\"/></a>"
      ]
    },
    {
      "cell_type": "code",
      "source": [
        "from google.colab import drive\n",
        "drive.mount('/content/drive')"
      ],
      "metadata": {
        "colab": {
          "base_uri": "https://localhost:8080/"
        },
        "id": "rcn4Uj6hhS80",
        "outputId": "9670a2d2-3107-46e9-8b79-45d70ad119f5"
      },
      "execution_count": 2,
      "outputs": [
        {
          "output_type": "stream",
          "name": "stdout",
          "text": [
            "Drive already mounted at /content/drive; to attempt to forcibly remount, call drive.mount(\"/content/drive\", force_remount=True).\n"
          ]
        }
      ]
    },
    {
      "cell_type": "code",
      "execution_count": 4,
      "metadata": {
        "colab": {
          "base_uri": "https://localhost:8080/"
        },
        "id": "ZjfFyXj6hJfX",
        "outputId": "aa7f0d6d-e060-47b2-961c-b80fea0bd27e"
      },
      "outputs": [
        {
          "output_type": "stream",
          "name": "stdout",
          "text": [
            "machine 1\n",
            "learning 8\n",
            "approaches 1\n",
            "traditionally 1\n",
            "divided 1\n",
            "into 1\n",
            "three 1\n",
            "broad 1\n",
            "categories 1\n",
            "depending 1\n",
            "the 7\n",
            "nature 1\n",
            "signal 1\n",
            "feedback 2\n",
            "available 1\n",
            "system 1\n",
            "supervised 1\n",
            "computer 2\n",
            "presented 1\n",
            "with 2\n",
            "example 1\n",
            "inputs 2\n",
            "and 2\n",
            "their 1\n",
            "desired 1\n",
            "outputs 2\n",
            "given 2\n",
            "teacher 1\n",
            "goal 3\n",
            "learn 1\n",
            "general 1\n",
            "rule 1\n",
            "that 2\n",
            "maps 1\n",
            "unsupervised 2\n",
            "labels 1\n",
            "are 1\n",
            "algorithm 1\n",
            "leaving 1\n",
            "its 3\n",
            "own 1\n",
            "find 1\n",
            "structure 1\n",
            "input 1\n",
            "can 1\n",
            "itself 1\n",
            "discovering 1\n",
            "hidden 1\n",
            "patterns 1\n",
            "data 1\n",
            "means 1\n",
            "towards 1\n",
            "end 1\n",
            "feature 1\n",
            "reinforcement 1\n",
            "program 2\n",
            "interacts 1\n",
            "dynamic 1\n",
            "environment 1\n",
            "which 2\n",
            "must 1\n",
            "perform 1\n",
            "certain 1\n",
            "such 1\n",
            "driving 1\n",
            "vehicle 1\n",
            "playing 1\n",
            "game 1\n",
            "against 1\n",
            "opponent 1\n",
            "navigates 1\n",
            "problem 1\n",
            "space 1\n",
            "provided 1\n",
            "analogous 1\n",
            "rewards 1\n",
            "tries 1\n",
            "maximize 1\n"
          ]
        }
      ],
      "source": [
        "import re # modul untuk operasi regular expression\n",
        "\n",
        "frequency = {} # menyimpan frekuensi kemunculan setiap kata dalam teks\n",
        "document_text = open('/content/tes.txt', 'r') # membuka lalu membaca file tes.txt\n",
        "text_string = document_text.read().lower() # membaca seluruh file txt lalu mengonversi ke huruf kecil\n",
        "match_pattern = re.findall(r'\\b[a-z]{3,15}\\b', text_string) # mencari semua kata yg panjangnya antara 3 - 15 karakter (hanya huruf). Kata yg ditemukan disimpan dlm match_pattern\n",
        "\n",
        "# mengambil jml kemunculan kata dr dict frequency\n",
        "#jika sdh ada, kode akan menambah 1 ke jumlah kemunculannya.\n",
        "#jika blm ada, kode akan menambahkan kata tsb ke dictionary dgn jumlah kemunculan 1.\n",
        "for word in match_pattern:\n",
        "    count = frequency.get(word, 0)\n",
        "    frequency[word] = count + 1\n",
        "\n",
        "frequency_list = frequency.keys() # melihat key (kata-kata) dari dict frequency dan disimpan pada frequency_list\n",
        "\n",
        "# mencetak setiap kata beserta jumlah kemunculannya\n",
        "for word in frequency_list:\n",
        "    print(word, frequency[word])"
      ]
    },
    {
      "cell_type": "code",
      "source": [],
      "metadata": {
        "id": "gkW6ZHE1h8LW"
      },
      "execution_count": null,
      "outputs": []
    }
  ]
}